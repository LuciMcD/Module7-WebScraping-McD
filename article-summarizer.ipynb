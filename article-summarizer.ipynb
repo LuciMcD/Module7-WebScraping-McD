{
 "cells": [
  {
   "cell_type": "markdown",
   "metadata": {},
   "source": [
    "# Web Mining and Applied NLP (44-620)\n",
    "\n",
    "## Final Project: Article Summarizer\n",
    "\n",
    "### Student Name: Luci McDaniel\n",
    "### GitHub: https://github.com/LuciMcD/Module7-WebScraping-McD.git \n",
    "\n",
    "Perform the tasks described in the Markdown cells below.  When you have completed the assignment make sure your code cells have all been run (and have output beneath them) and ensure you have committed and pushed ALL of your changes to your assignment repository.\n",
    "\n",
    "You should bring in code from previous assignments to help you answer the questions below.\n",
    "\n",
    "Every question that requires you to write code will have a code cell underneath it; you may either write your entire solution in that cell or write it in a python file (`.py`), then import and run the appropriate code to answer the question."
   ]
  },
  {
   "cell_type": "code",
   "execution_count": 111,
   "metadata": {},
   "outputs": [],
   "source": [
    "import spacy\n",
    "import matplotlib.pyplot as plt\n",
    "import pickle\n",
    "import requests\n",
    "from bs4 import BeautifulSoup "
   ]
  },
  {
   "cell_type": "markdown",
   "metadata": {},
   "source": [
    "## Question 1:\n",
    "1. Find on the internet an article or blog post about a topic that interests you and you are able to get the text for using the technologies we have applied in the course.  Get the html for the article and store it in a file (which you must submit with your project)"
   ]
  },
  {
   "cell_type": "markdown",
   "metadata": {},
   "source": [
    "## Solution 1:"
   ]
  },
  {
   "cell_type": "code",
   "execution_count": 112,
   "metadata": {},
   "outputs": [],
   "source": [
    "poem = requests.get('https://poets.org/poem/my-people')\n",
    "with open('poem.pkl', 'wb') as f:\n",
    "    pickle.dump(poem.text, f)"
   ]
  },
  {
   "cell_type": "markdown",
   "metadata": {},
   "source": [
    "## Question 2:\n",
    "2. Read in your article's html source from the file you created in question 1 and do sentiment analysis on the article/post's text (use `.get_text()`).  Print the polarity score with an appropriate label.  Additionally print the number of sentences in the original article (with an appropriate label)"
   ]
  },
  {
   "cell_type": "markdown",
   "metadata": {},
   "source": [
    "## Solution 2:"
   ]
  },
  {
   "cell_type": "code",
   "execution_count": 113,
   "metadata": {},
   "outputs": [
    {
     "name": "stdout",
     "output_type": "stream",
     "text": [
      "\n",
      "\n",
      "\n",
      "For My People\n",
      "\n",
      "\n",
      "\n",
      "\n",
      "\n",
      "\n",
      "\n",
      "\n",
      "\n",
      "\n",
      "\n",
      "\n",
      "\n",
      "\n",
      "\n",
      "\n",
      "\n",
      "\n",
      "\n",
      "\n",
      "\n",
      "\n",
      "\n",
      "\n",
      "\n",
      "\n",
      "\n",
      "\n",
      "\n",
      "\n",
      "\n",
      "\n",
      "\n",
      "\n",
      "\n",
      "Add to anthology\n",
      "\n",
      "×\n",
      "\n",
      "\n",
      "\n",
      "\n",
      "\n",
      "\n",
      "\n",
      "\n",
      "\n",
      "\n",
      "\n",
      "Margaret Walker\n",
      "\n",
      "\n",
      "1915 – \n",
      "1998\n",
      "\n",
      "\n",
      "\n",
      "\n",
      "For my people everywhere singing their slave songs     repeatedly: their dirges and their ditties and their blues       and jubilees, praying their prayers nightly to an     unknown god, bending their knees humbly to an     unseen power;\n",
      "For my people lending their strength to the years, to the      gone years and the now years and the maybe years,    washing ironing cooking scrubbing sewing mending    hoeing plowing digging planting pruning patching     dragging along never gaining never reaping never    knowing and never understanding;\n",
      "For my playmates in the clay and dust and sand of Alabama     backyards playing baptizing and preaching and doctor    and jail and soldier and school and mama and cooking    and playhouse and concert and store and hair and Miss     Choomby and company;\n",
      "For the cramped bewildered years we went to school to learn      to know the reasons why and the answers to and the    people who and the places where and the days when, in    memory of the bitter hours when we discovered we    were black and poor and small and different and nobody    cared and nobody wondered and nobody understood;\n",
      "For the boys and girls who grew in spite of these things to    be man and woman, to laugh and dance and sing and    play and drink their wine and religion and success, to    marry their playmates and bear children and then die     of consumption and anemia and lynching;\n",
      "For my people thronging 47th Street in Chicago and Lenox    Avenue in New York and Rampart Street in New    Orleans, lost disinherited dispossessed and happy    people filling the cabarets and taverns and other    people’s pockets needing bread and shoes and milk and     land and money and something—something all our own;\n",
      "For my people walking blindly spreading joy, losing time     being lazy, sleeping when hungry, shouting when     burdened, drinking when hopeless, tied, and shackled     and tangled among ourselves by the unseen creatures     who tower over us omnisciently and laugh;\n",
      "For my people blundering and groping and floundering in     the dark of churches and schools and clubs and      societies, associations and councils and committees and       conventions, distressed and disturbed and deceived and     devoured by money-hungry glory-craving leeches,     preyed on by facile force of state and fad and novelty, by     false prophet and holy believer;\n",
      "For my people standing staring trying to fashion a better way     from confusion, from hypocrisy and misunderstanding,    trying to fashion a world that will hold all the people,    all the faces, all the adams and eves and their countless     generations;\n",
      "Let a new earth rise. Let another world be born. Let a    bloody peace be written in the sky. Let a second    generation full of courage issue forth; let a people    loving freedom come to growth. Let a beauty full of    healing and a strength of final clenching be the pulsing    in our spirits and our blood. Let the martial songs    be written, let the dirges disappear. Let a race of men now      rise and take control.\n",
      "\n",
      "From This Is My Century: New and Collected Poems (University of Georgia Press, 1989). Copyright © 1989 by Margaret Walker. Used with permission of the University of Georgia Press.\n",
      "\n",
      "\n",
      "\n",
      "The polarity score of FOR MY PEOPLE is  0.05\n",
      "The number of lines in the poem: 16\n"
     ]
    }
   ],
   "source": [
    "from spacytextblob.spacytextblob import SpacyTextBlob\n",
    "poem_html = poem.text\n",
    "\n",
    "with open('poem.pkl', 'rb') as f:\n",
    "    poem_html = pickle.load(f)\n",
    "\n",
    "parser = 'html.parser'\n",
    "soup = BeautifulSoup(poem_html, parser)\n",
    "extract_poem = soup.find('article')\n",
    "formypeople = extract_poem.get_text()\n",
    "print(formypeople)\n",
    "#poem_lines = soup.find_all('p')\n",
    "#print(poem_lines[1].get_text())\n",
    "\n",
    "#printing the polarity score \n",
    "nlp = spacy.load('en_core_web_sm')\n",
    "nlp.add_pipe('spacytextblob')\n",
    "doc = nlp(formypeople)\n",
    "\n",
    "polarity = doc._.blob.polarity\n",
    "print(\"The polarity score of FOR MY PEOPLE is \", round(polarity, 2))\n",
    "\n",
    "#printing the number of sentences\n",
    "poem_lines = soup.find_all('p')\n",
    "total_lines = len(poem_lines)\n",
    "print(\"The number of lines in the poem:\",total_lines)\n"
   ]
  },
  {
   "cell_type": "markdown",
   "metadata": {},
   "source": [
    "## Question 3:\n",
    "3. Load the article text into a trained `spaCy` pipeline, and determine the 5 most frequent tokens (converted to lower case).  Print the common tokens with an appropriate label.  Additionally, print the tokens their frequencies (with appropriate labels)"
   ]
  },
  {
   "cell_type": "markdown",
   "metadata": {},
   "source": [
    "## Solution 3:"
   ]
  },
  {
   "cell_type": "code",
   "execution_count": 114,
   "metadata": {},
   "outputs": [
    {
     "name": "stdout",
     "output_type": "stream",
     "text": [
      "The most common tokens in FOR MY PEOPLE are;  ['people', 'add', 'anthology', '×', 'margaret', 'walker', '1915', '1998', 'people', 'singing', 'slave', 'songs', 'repeatedly', 'dirges', 'ditties', 'blues', 'jubilees', 'praying', 'prayers', 'nightly', 'unknown', 'god', 'bending', 'knees', 'humbly', 'unseen', 'power', 'people', 'lending', 'strength', 'years', 'gone', 'years', 'years', 'maybe', 'years', 'washing', 'ironing', 'cooking', 'scrubbing', 'sewing', 'mending', 'hoeing', 'plowing', 'digging', 'planting', 'pruning', 'patching', 'dragging', 'gaining', 'reaping', 'knowing', 'understanding', 'playmates', 'clay', 'dust', 'sand', 'alabama', 'backyards', 'playing', 'baptizing', 'preaching', 'doctor', 'jail', 'soldier', 'school', 'mama', 'cooking', 'playhouse', 'concert', 'store', 'hair', 'miss', 'choomby', 'company', 'cramped', 'bewildered', 'years', 'went', 'school', 'learn', 'know', 'reasons', 'answers', 'people', 'places', 'days', 'memory', 'bitter', 'hours', 'discovered', 'black', 'poor', 'small', 'different', 'cared', 'wondered', 'understood', 'boys', 'girls', 'grew', 'spite', 'things', 'man', 'woman', 'laugh', 'dance', 'sing', 'play', 'drink', 'wine', 'religion', 'success', 'marry', 'playmates', 'bear', 'children', 'die', 'consumption', 'anemia', 'lynching', 'people', 'thronging', '47th', 'street', 'chicago', 'lenox', 'avenue', 'new', 'york', 'rampart', 'street', 'new', 'orleans', 'lost', 'disinherited', 'dispossessed', 'happy', 'people', 'filling', 'cabarets', 'taverns', 'people', 'pockets', 'needing', 'bread', 'shoes', 'milk', 'land', 'money', 'people', 'walking', 'blindly', 'spreading', 'joy', 'losing', 'time', 'lazy', 'sleeping', 'hungry', 'shouting', 'burdened', 'drinking', 'hopeless', 'tied', 'shackled', 'tangled', 'unseen', 'creatures', 'tower', 'omnisciently', 'laugh', 'people', 'blundering', 'groping', 'floundering', 'dark', 'churches', 'schools', 'clubs', 'societies', 'associations', 'councils', 'committees', 'conventions', 'distressed', 'disturbed', 'deceived', 'devoured', 'money', 'hungry', 'glory', 'craving', 'leeches', 'preyed', 'facile', 'force', 'state', 'fad', 'novelty', 'false', 'prophet', 'holy', 'believer', 'people', 'standing', 'staring', 'trying', 'fashion', 'better', 'way', 'confusion', 'hypocrisy', 'misunderstanding', 'trying', 'fashion', 'world', 'hold', 'people', 'faces', 'adams', 'eves', 'countless', 'generations', 'let', 'new', 'earth', 'rise', 'let', 'world', 'born', 'let', 'bloody', 'peace', 'written', 'sky', 'let', 'second', 'generation', 'courage', 'issue', 'forth', 'let', 'people', 'loving', 'freedom', 'come', 'growth', 'let', 'beauty', 'healing', 'strength', 'final', 'clenching', 'pulsing', 'spirits', 'blood', 'let', 'martial', 'songs', 'written', 'let', 'dirges', 'disappear', 'let', 'race', 'men', 'rise', 'control', 'century', 'new', 'collected', 'poems', 'university', 'georgia', 'press', '1989', 'copyright', '©', '1989', 'margaret', 'walker', 'permission', 'university', 'georgia', 'press']\n",
      "The frequency of these tokens are;  [('people', 12), ('let', 9), ('years', 5), ('new', 4), ('margaret', 2)]\n"
     ]
    }
   ],
   "source": [
    "#removing whitespace, punctuation, and stop words\n",
    "def clean_token(token):\n",
    "    return not (token.is_space or token.is_punct or token.is_stop)\n",
    "#finding the most common tokens\n",
    "common_tokens = [token.text.lower() for token in doc if clean_token(token)]\n",
    "print(\"The most common tokens in FOR MY PEOPLE are; \", common_tokens)\n",
    "#counting the most common tokens and printing the frequency\n",
    "from collections import Counter\n",
    "frequency = Counter(map(str, common_tokens))\n",
    "print(\"The frequency of these tokens are; \", frequency.most_common(5))"
   ]
  },
  {
   "cell_type": "markdown",
   "metadata": {},
   "source": [
    "## Question 4:\n",
    "4. Load the article text into a trained `spaCy` pipeline, and determine the 5 most frequent lemmas (converted to lower case).  Print the common lemmas with an appropriate label.  Additionally, print the lemmas with their frequencies (with appropriate labels)."
   ]
  },
  {
   "cell_type": "markdown",
   "metadata": {},
   "source": [
    "## Solution 4:"
   ]
  },
  {
   "cell_type": "code",
   "execution_count": 115,
   "metadata": {},
   "outputs": [
    {
     "name": "stdout",
     "output_type": "stream",
     "text": [
      "The lemmas in FOR MY PEOPLE are; ['people', 'add', 'anthology', '×', 'margaret', 'walker', '1915', '1998', 'people', 'singe', 'slave', 'song', 'repeatedly', 'dirge', 'ditty', 'blue', 'jubilee', 'pray', 'prayer', 'nightly', 'unknown', 'god', 'bend', 'knee', 'humbly', 'unseen', 'power', 'people', 'lend', 'strength', 'year', 'go', 'year', 'year', 'maybe', 'year', 'wash', 'iron', 'cooking', 'scrub', 'sewing', 'mending', 'hoeing', 'plow', 'dig', 'plant', 'prune', 'patching', 'drag', 'gain', 'reap', 'know', 'understand', 'playmate', 'clay', 'dust', 'sand', 'alabama', 'backyard', 'play', 'baptize', 'preaching', 'doctor', 'jail', 'soldier', 'school', 'mama', 'cooking', 'playhouse', 'concert', 'store', 'hair', 'miss', 'choomby', 'company', 'cramp', 'bewildered', 'year', 'go', 'school', 'learn', 'know', 'reason', 'answer', 'people', 'place', 'day', 'memory', 'bitter', 'hour', 'discover', 'black', 'poor', 'small', 'different', 'care', 'wonder', 'understand', 'boy', 'girl', 'grow', 'spite', 'thing', 'man', 'woman', 'laugh', 'dance', 'sing', 'play', 'drink', 'wine', 'religion', 'success', 'marry', 'playmate', 'bear', 'child', 'die', 'consumption', 'anemia', 'lynching', 'people', 'throng', '47th', 'street', 'chicago', 'lenox', 'avenue', 'new', 'york', 'rampart', 'street', 'new', 'orleans', 'lose', 'disinherit', 'dispossess', 'happy', 'people', 'fill', 'cabaret', 'tavern', 'people', 'pocket', 'need', 'bread', 'shoe', 'milk', 'land', 'money', 'people', 'walking', 'blindly', 'spread', 'joy', 'lose', 'time', 'lazy', 'sleep', 'hungry', 'shout', 'burden', 'drink', 'hopeless', 'tie', 'shackle', 'tangle', 'unseen', 'creature', 'tower', 'omnisciently', 'laugh', 'people', 'blunder', 'grope', 'flounder', 'dark', 'church', 'school', 'club', 'society', 'association', 'council', 'committee', 'convention', 'distressed', 'disturbed', 'deceive', 'devour', 'money', 'hungry', 'glory', 'craving', 'leech', 'prey', 'facile', 'force', 'state', 'fad', 'novelty', 'false', 'prophet', 'holy', 'believer', 'people', 'stand', 'stare', 'try', 'fashion', 'well', 'way', 'confusion', 'hypocrisy', 'misunderstanding', 'try', 'fashion', 'world', 'hold', 'people', 'face', 'adam', 'eve', 'countless', 'generation', 'let', 'new', 'earth', 'rise', 'let', 'world', 'bear', 'let', 'bloody', 'peace', 'write', 'sky', 'let', 'second', 'generation', 'courage', 'issue', 'forth', 'let', 'people', 'love', 'freedom', 'come', 'growth', 'let', 'beauty', 'healing', 'strength', 'final', 'clenching', 'pulsing', 'spirit', 'blood', 'let', 'martial', 'song', 'write', 'let', 'dirge', 'disappear', 'let', 'race', 'man', 'rise', 'control', 'century', 'new', 'collected', 'poems', 'university', 'georgia', 'press', '1989', 'copyright', '©', '1989', 'margaret', 'walker', 'permission', 'university', 'georgia', 'press']\n",
      "The frequency of the 5 most common lemmas are; [('people', 12), ('let', 9), ('year', 5), ('new', 4), ('school', 3)]\n"
     ]
    }
   ],
   "source": [
    "lemmas =  [token.lemma_.lower() for token in doc if clean_token(token)]\n",
    "lemmas_freq = Counter(lemmas)\n",
    "most_common_lemmas = lemmas_freq.most_common(5)\n",
    "print(\"The lemmas in FOR MY PEOPLE are;\", lemmas)\n",
    "print(\"The frequency of the 5 most common lemmas are;\", most_common_lemmas)"
   ]
  },
  {
   "cell_type": "markdown",
   "metadata": {},
   "source": [
    "## Question 5:\n",
    "5. Make a list containing the scores (using tokens) of every sentence in the article, and plot a histogram with appropriate titles and axis labels of the scores. From your histogram, what seems to be the most common range of scores (put the answer in a comment after your code)?"
   ]
  },
  {
   "cell_type": "markdown",
   "metadata": {},
   "source": [
    "## Solution 5:"
   ]
  },
  {
   "cell_type": "markdown",
   "metadata": {},
   "source": [
    "#### Part 1: Defiing the sentence length, and score_sentence_by_token"
   ]
  },
  {
   "cell_type": "code",
   "execution_count": 116,
   "metadata": {},
   "outputs": [
    {
     "name": "stdout",
     "output_type": "stream",
     "text": [
      "{'people', 'dirges', 'margaret', 'walker', 'strength', 'new', 'unseen', 'years', 'let', 'songs'}\n",
      "The sentence lenght is: 2\n",
      "The token score for that sentence is: 0.0\n"
     ]
    }
   ],
   "source": [
    "top_tokens = set()\n",
    "for common_tokens, freq in frequency.most_common(10):\n",
    "    top_tokens.add(common_tokens)\n",
    "print(top_tokens)\n",
    "\n",
    "sentences = list(doc.sents)\n",
    "\n",
    "\n",
    "def sentence_length(sentence):\n",
    "    count = 0\n",
    "    for token in sentence:\n",
    "        if token.text.lower() in top_tokens:\n",
    "            count += 1\n",
    "    return count \n",
    "\n",
    "def score_sentence_by_token(sentence, top_tokens):\n",
    "    token_count = sum(1 for token in sentence if token in top_tokens)\n",
    "    token_score = token_count/sentence_length(sentence)\n",
    "    return token_score\n",
    "print(\"The sentence lenght is:\", sentence_length(sentences[4]))\n",
    "print(\"The token score for that sentence is:\", round(score_sentence_by_token(sentences[4], top_tokens),5))"
   ]
  },
  {
   "cell_type": "markdown",
   "metadata": {},
   "source": [
    "#### Part 2: Creating a list of token scores"
   ]
  },
  {
   "cell_type": "code",
   "execution_count": 117,
   "metadata": {},
   "outputs": [
    {
     "ename": "ZeroDivisionError",
     "evalue": "division by zero",
     "output_type": "error",
     "traceback": [
      "\u001b[1;31m---------------------------------------------------------------------------\u001b[0m",
      "\u001b[1;31mZeroDivisionError\u001b[0m                         Traceback (most recent call last)",
      "Cell \u001b[1;32mIn[117], line 3\u001b[0m\n\u001b[0;32m      1\u001b[0m token_scores \u001b[38;5;241m=\u001b[39m []\n\u001b[0;32m      2\u001b[0m \u001b[38;5;28;01mfor\u001b[39;00m sentence \u001b[38;5;129;01min\u001b[39;00m sentences:\n\u001b[1;32m----> 3\u001b[0m     token_scores\u001b[38;5;241m.\u001b[39mappend(\u001b[43mscore_sentence_by_token\u001b[49m\u001b[43m(\u001b[49m\u001b[43msentence\u001b[49m\u001b[43m,\u001b[49m\u001b[43m \u001b[49m\u001b[43mtop_tokens\u001b[49m\u001b[43m)\u001b[49m)\n",
      "Cell \u001b[1;32mIn[116], line 18\u001b[0m, in \u001b[0;36mscore_sentence_by_token\u001b[1;34m(sentence, top_tokens)\u001b[0m\n\u001b[0;32m     16\u001b[0m \u001b[38;5;28;01mdef\u001b[39;00m \u001b[38;5;21mscore_sentence_by_token\u001b[39m(sentence, top_tokens):\n\u001b[0;32m     17\u001b[0m     token_count \u001b[38;5;241m=\u001b[39m \u001b[38;5;28msum\u001b[39m(\u001b[38;5;241m1\u001b[39m \u001b[38;5;28;01mfor\u001b[39;00m token \u001b[38;5;129;01min\u001b[39;00m sentence \u001b[38;5;28;01mif\u001b[39;00m token \u001b[38;5;129;01min\u001b[39;00m top_tokens)\n\u001b[1;32m---> 18\u001b[0m     token_score \u001b[38;5;241m=\u001b[39m \u001b[43mtoken_count\u001b[49m\u001b[38;5;241;43m/\u001b[39;49m\u001b[43msentence_length\u001b[49m\u001b[43m(\u001b[49m\u001b[43msentence\u001b[49m\u001b[43m)\u001b[49m\n\u001b[0;32m     19\u001b[0m     \u001b[38;5;28;01mreturn\u001b[39;00m token_score\n",
      "\u001b[1;31mZeroDivisionError\u001b[0m: division by zero"
     ]
    }
   ],
   "source": [
    "token_scores = []\n",
    "for sentence in sentences:\n",
    "    token_scores.append(score_sentence_by_token(sentence, top_tokens))"
   ]
  },
  {
   "cell_type": "markdown",
   "metadata": {},
   "source": [
    "#### Part 3: Creating a histogram of token_scores"
   ]
  },
  {
   "cell_type": "code",
   "execution_count": null,
   "metadata": {},
   "outputs": [
    {
     "data": {
      "image/png": "[encoded data removed]",
      "text/plain": [
       "<Figure size 640x480 with 1 Axes>"
      ]
     },
     "metadata": {},
     "output_type": "display_data"
    }
   ],
   "source": [
    "plt.hist(token_scores, bins=30, color='purple', edgecolor='black')\n",
    "plt.xlabel('Token Score')\n",
    "plt.ylabel('frequency')\n",
    "plt.title('Histogram of Token Scores per Sentence')\n",
    "plt.show()"
   ]
  },
  {
   "cell_type": "markdown",
   "metadata": {},
   "source": [
    "## Question 6:\n",
    "6. Make a list containing the scores (using lemmas) of every sentence in the article, and plot a histogram with appropriate titles and axis labels of the scores.  From your histogram, what seems to be the most common range of scores (put the answer in a comment after your code)?"
   ]
  },
  {
   "cell_type": "markdown",
   "metadata": {},
   "source": [
    "## Solution 6:"
   ]
  },
  {
   "cell_type": "markdown",
   "metadata": {},
   "source": [
    "#### Part 1: Defining score_sentence_by_lemma"
   ]
  },
  {
   "cell_type": "code",
   "execution_count": 118,
   "metadata": {},
   "outputs": [
    {
     "name": "stdout",
     "output_type": "stream",
     "text": [
      "{'people', 'school', 'new', 'let', 'year'}\n",
      "1.0\n"
     ]
    }
   ],
   "source": [
    "most_common_lemmas = set()\n",
    "for lemma, freq in lemmas_freq.most_common(5):\n",
    "    most_common_lemmas.add(lemma)\n",
    "print(most_common_lemmas)\n",
    "\n",
    "def score_sentence_by_lemma(sentence, most_common_lemmas):\n",
    "    count = 0\n",
    "    for lemma in sentence:\n",
    "        if lemma.text.lower() in most_common_lemmas:\n",
    "            count+=1\n",
    "    lemma_score = count/sentence_length(sentence)\n",
    "    return lemma_score\n",
    "print(score_sentence_by_lemma(sentences[2], most_common_lemmas))"
   ]
  },
  {
   "cell_type": "markdown",
   "metadata": {},
   "source": [
    "#### Part 2: Creating a list of lemma_scores"
   ]
  },
  {
   "cell_type": "code",
   "execution_count": null,
   "metadata": {},
   "outputs": [
    {
     "ename": "ZeroDivisionError",
     "evalue": "division by zero",
     "output_type": "error",
     "traceback": [
      "\u001b[1;31m---------------------------------------------------------------------------\u001b[0m",
      "\u001b[1;31mZeroDivisionError\u001b[0m                         Traceback (most recent call last)",
      "Cell \u001b[1;32mIn[109], line 3\u001b[0m\n\u001b[0;32m      1\u001b[0m lemma_scores \u001b[38;5;241m=\u001b[39m []\n\u001b[0;32m      2\u001b[0m \u001b[38;5;28;01mfor\u001b[39;00m sentence \u001b[38;5;129;01min\u001b[39;00m sentences:\n\u001b[1;32m----> 3\u001b[0m     lemma_scores\u001b[38;5;241m.\u001b[39mappend(\u001b[43mscore_sentence_by_lemma\u001b[49m\u001b[43m(\u001b[49m\u001b[43msentence\u001b[49m\u001b[43m,\u001b[49m\u001b[43m \u001b[49m\u001b[43mmost_common_lemmas\u001b[49m\u001b[43m)\u001b[49m)\n",
      "Cell \u001b[1;32mIn[81], line 11\u001b[0m, in \u001b[0;36mscore_sentence_by_lemma\u001b[1;34m(sentence, most_common_lemmas)\u001b[0m\n\u001b[0;32m      9\u001b[0m     \u001b[38;5;28;01mif\u001b[39;00m lemma\u001b[38;5;241m.\u001b[39mtext\u001b[38;5;241m.\u001b[39mlower() \u001b[38;5;129;01min\u001b[39;00m most_common_lemmas:\n\u001b[0;32m     10\u001b[0m         count\u001b[38;5;241m+\u001b[39m\u001b[38;5;241m=\u001b[39m\u001b[38;5;241m1\u001b[39m\n\u001b[1;32m---> 11\u001b[0m lemma_score \u001b[38;5;241m=\u001b[39m \u001b[43mcount\u001b[49m\u001b[38;5;241;43m/\u001b[39;49m\u001b[43msentence_length\u001b[49m\u001b[43m(\u001b[49m\u001b[43msentence\u001b[49m\u001b[43m)\u001b[49m\n\u001b[0;32m     12\u001b[0m \u001b[38;5;28;01mreturn\u001b[39;00m lemma_score\n",
      "\u001b[1;31mZeroDivisionError\u001b[0m: division by zero"
     ]
    }
   ],
   "source": [
    "lemma_scores = []\n",
    "for sentence in sentences:\n",
    "    lemma_scores.append(score_sentence_by_lemma(sentence, most_common_lemmas))"
   ]
  },
  {
   "cell_type": "markdown",
   "metadata": {},
   "source": [
    "#### Part 3: Creating a histogram of lemma_scores"
   ]
  },
  {
   "cell_type": "code",
   "execution_count": null,
   "metadata": {},
   "outputs": [
    {
     "data": {
      "image/png": "[encoded data removed]",
      "text/plain": [
       "<Figure size 640x480 with 1 Axes>"
      ]
     },
     "metadata": {},
     "output_type": "display_data"
    }
   ],
   "source": [
    "plt.hist(lemma_scores, bins=30, color='yellow', edgecolor='black')\n",
    "plt.xlabel('Lemma Score')\n",
    "plt.ylabel('Frequency')\n",
    "plt.title('Histogram of Lemma Scores per Sentence')\n",
    "plt.show()"
   ]
  },
  {
   "cell_type": "markdown",
   "metadata": {},
   "source": [
    "## Question 7:\n",
    "7. Using the histograms from questions 5 and 6, decide a \"cutoff\" score for tokens and lemmas such that fewer than half the sentences would have a score greater than the cutoff score.  Record the scores in this Markdown cell\n",
    "\n",
    "* Cutoff Score (tokens): \n",
    "* Cutoff Score (lemmas):\n",
    "\n",
    "Feel free to change these scores as you generate your summaries.  Ideally, we're shooting for at least 6 sentences for our summary, but don't want more than 10 (these numbers are rough estimates; they depend on the length of your article)."
   ]
  },
  {
   "cell_type": "markdown",
   "metadata": {},
   "source": [
    "## Question 8:\n",
    "8. Create a summary of the article by going through every sentence in the article and adding it to an (initially) empty list if its score (based on tokens) is greater than the cutoff score you identified in question 8.  If your loop variable is named `sent`, you may find it easier to add `sent.text.strip()` to your list of sentences.  Print the summary (I would cleanly generate the summary text by `join`ing the strings in your list together with a space (`' '.join(sentence_list)`)."
   ]
  },
  {
   "cell_type": "markdown",
   "metadata": {},
   "source": [
    "## Solution 8:"
   ]
  },
  {
   "cell_type": "code",
   "execution_count": null,
   "metadata": {},
   "outputs": [],
   "source": []
  },
  {
   "cell_type": "markdown",
   "metadata": {},
   "source": [
    "## Question 9:\n",
    "9. Print the polarity score of your summary you generated with the token scores (with an appropriate label). Additionally, print the number of sentences in the summarized article."
   ]
  },
  {
   "cell_type": "markdown",
   "metadata": {},
   "source": [
    "## Solution 9:"
   ]
  },
  {
   "cell_type": "code",
   "execution_count": null,
   "metadata": {},
   "outputs": [],
   "source": []
  },
  {
   "cell_type": "markdown",
   "metadata": {},
   "source": [
    "## Question 10:\n",
    "10. Create a summary of the article by going through every sentence in the article and adding it to an (initially) empty list if its score (based on lemmas) is greater than the cutoff score you identified in question 8.  If your loop variable is named `sent`, you may find it easier to add `sent.text.strip()` to your list of sentences.  Print the summary (I would cleanly generate the summary text by `join`ing the strings in your list together with a space (`' '.join(sentence_list)`)."
   ]
  },
  {
   "cell_type": "markdown",
   "metadata": {},
   "source": [
    "## Solution 10:"
   ]
  },
  {
   "cell_type": "code",
   "execution_count": null,
   "metadata": {},
   "outputs": [],
   "source": []
  },
  {
   "cell_type": "markdown",
   "metadata": {},
   "source": [
    "## Question 11:\n",
    "11. Print the polarity score of your summary you generated with the lemma scores (with an appropriate label). Additionally, print the number of sentences in the summarized article."
   ]
  },
  {
   "cell_type": "markdown",
   "metadata": {},
   "source": [
    "## Solution 11:"
   ]
  },
  {
   "cell_type": "code",
   "execution_count": null,
   "metadata": {},
   "outputs": [],
   "source": []
  },
  {
   "cell_type": "markdown",
   "metadata": {},
   "source": [
    "## Question 12:\n",
    "12.  Compare your polarity scores of your summaries to the polarity scores of the initial article.  Is there a difference?  Why do you think that may or may not be?.  Answer in this Markdown cell.  "
   ]
  },
  {
   "cell_type": "markdown",
   "metadata": {},
   "source": [
    "## Question 13:\n",
    "13. Based on your reading of the original article, which summary do you think is better (if there's a difference).  Why do you think this might be?"
   ]
  }
 ],
 "metadata": {
  "kernelspec": {
   "display_name": "Python 3",
   "language": "python",
   "name": "python3"
  },
  "language_info": {
   "codemirror_mode": {
    "name": "ipython",
    "version": 3
   },
   "file_extension": ".py",
   "mimetype": "text/x-python",
   "name": "python",
   "nbconvert_exporter": "python",
   "pygments_lexer": "ipython3",
   "version": "3.11.4"
  }
 },
 "nbformat": 4,
 "nbformat_minor": 4
}
